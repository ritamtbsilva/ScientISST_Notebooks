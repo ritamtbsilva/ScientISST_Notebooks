{
 "cells": [
  {
   "cell_type": "markdown",
   "metadata": {},
   "source": [
    " # <div  style=\"color:#303030;font-family:'arial blACK', sans-serif,monospace; text-align: center; padding: 50px 0; vertical-align:middle;\" > <img src=\"https://www.nicepng.com/png/full/204-2043038_white-lightbulb-icon-light-bulb-icon-white.png\" style=\" background:#00a0e4;border-radius:10px;width:150px;text-align:left; margin-left:10%\"  /> <span style=\"position:relative; bottom:70px; margin-left:5%\">   IIR Adaptive Filtering </span> </div>"
   ]
  },
  {
   "cell_type": "markdown",
   "metadata": {},
   "source": [
    "## <span style=\"color:#00a0e4;\"> Keywords: </span>"
   ]
  },
  {
   "cell_type": "markdown",
   "metadata": {},
   "source": [
    "```Body Temperature```, ```Thermometer```, ```Adaptive filters```,```IIR filters```"
   ]
  },
  {
   "cell_type": "markdown",
   "metadata": {},
   "source": [
    "# I. Introduction\n",
    "<br>\n",
    "<div class=\"title\"style=\"width:100%; background:#00a0e4;font-family:'arial black',monospace; text-align: center; padding: 7px 0; border-radius: 5px 50px;margin-top:-15px\" >  </div>"
   ]
  },
  {
   "cell_type": "markdown",
   "metadata": {},
   "source": [
    "## <div style=\"color:#00a0e4\"> 1. Background </div>\n"
   ]
  },
  {
   "cell_type": "markdown",
   "metadata": {},
   "source": [
    "In signal processing, filters are one of the most valuable tools available, as they allow for the extraction of valuable information from signals, as well as the removal of unwanted noise."
   ]
  },
  {
   "cell_type": "markdown",
   "metadata": {},
   "source": [
    "## <div style=\"color:#00a0e4\"> 2. Objectives</div>\n",
    "* Understand the theoretical principles behind IIR filters.\n",
    "* Understand the theoretical principles behind adaptive filters.\n",
    "* Understand the possible applications for this type of processing."
   ]
  },
  {
   "cell_type": "markdown",
   "metadata": {},
   "source": [
    "## <div style=\"color:#00a0e4\"> 3. Theory</div>"
   ]
  },
  {
   "cell_type": "markdown",
   "metadata": {},
   "source": [
    "**IIR (infinite impulse response) filters** are filters whose outputs depends not only on past inputs, but also on past outputs, which causes the impulse response to never reach zero and to therefore be infinite.\n",
    "\n",
    "Using IIR filters we can construct ***adaptive filters***, whose output depends on a weighted sum of the input and the previous outputs. What this means is that the strength of the filter can be dependent on not merely a constant, but *another signal*. \n",
    "\n",
    "This is useful to filter a signal using another, correlated signal, enabling the construction of a filter that can adapt to time-varying circumstances."
   ]
  },
  {
   "cell_type": "markdown",
   "metadata": {},
   "source": [
    "# II. Experimental\n",
    "\n",
    "<div style=\"width:100%; background:#00a0e4;color:#282828;font-family:'arial black'; text-align: center; padding: 7px 0; border-radius: 5px 50px; margin-top:-15px\" > </div>"
   ]
  },
  {
   "cell_type": "markdown",
   "metadata": {},
   "source": [
    "An example of such a filter would be one that contains a variable that determines the strength of the filter. This could be implemented by, for example, having a variable alpha range from 0 to 1, depending on another, correlated signal, and using this variable to determine how much the signal is being filtered at any particular instance.  \n",
    "\n",
    "This could be achieved by having the output of the filter be a linear combination of the input and the previous output:\n",
    "\n",
    "y(n) = α × x(n) + (1 − α) × y(n − 1)"
   ]
  },
  {
   "attachments": {},
   "cell_type": "markdown",
   "metadata": {},
   "source": [
    "<img src=\"https://i.ibb.co/pvNJ3LP/Screenshot-2020-09-25-at-14-32-09.png\" alt=\"CSS\" border=\"0\" width=\"600\">"
   ]
  },
  {
   "cell_type": "markdown",
   "metadata": {},
   "source": [
    "*Image: The block diagram of this IIR filter.*"
   ]
  },
  {
   "cell_type": "markdown",
   "metadata": {},
   "source": [
    "If alpha is 1, the output y(n) of the filter simply equals the input x(n), and the signal is not being filtered in that particular instance. If alpha is 0, the output y(n) of the filter is equal to the previous output y(n-1), and the filter is at its maximum strength.\n",
    "\n",
    "We can tune alpha by setting it at 0 when, for example, the correlated signal's derivative is high, and 1 when the correlated signal is constant, by using a sigmoid function. Another way to tune alpha would be to make it dependent on the amplitude or frequency of the correlated signal."
   ]
  },
  {
   "cell_type": "markdown",
   "metadata": {},
   "source": [
    "Try to implement this filter using the input/output equation, and making alpha 1 if the correlated signal goes over a certain amplitude, and 0 if it doesn't!"
   ]
  },
  {
   "cell_type": "markdown",
   "metadata": {},
   "source": [
    "# III. Explore\n",
    "\n",
    "<div style=\"width:100%; background:#00a0e4;color:#282828;font-family:'arial black'; text-align: center; padding: 7px 0; border-radius: 5px 50px; margin-top:-15px\" > </div>"
   ]
  },
  {
   "cell_type": "markdown",
   "metadata": {},
   "source": [
    "#### <div style=\"color:#00a0e4\">   3.1. Applications and Examples  </div>"
   ]
  },
  {
   "cell_type": "markdown",
   "metadata": {},
   "source": [
    "This filter is particularly useful to selectively remove noise and unwanted artifacts from data, as it can receive as an input a signal with a particular artifact, and as long as that artifact is very well correlated with another signal, it can output virtually the same original signal but without the artifact.\n",
    "\n",
    "Many physiological signals relevant for biomedical engineering require such filtration. \n",
    "\n",
    "An example is the filtering of body temperature data captured from an infrared in-ear thermometer. These thermometers often also have an ambient temperature reading, which is highly correlated with the measured temperature. In some IR sensors, if the subject of the measurement enters a colder location such as the outside, the ambient temperature reading drops, and a notable upwards spike artifact can be noted in the body temperature measurement, which is undesireable as it can lead to wrong measurements. "
   ]
  },
  {
   "attachments": {},
   "cell_type": "markdown",
   "metadata": {},
   "source": [
    "<img src=\"https://i.ibb.co/HnmbQvB/28eac52e-998c-43b9-b071-a60fdfb573c4-1200x1200.jpg\" alt=\"CSS\" border=\"0\" width=\"600\">\n"
   ]
  },
  {
   "cell_type": "markdown",
   "metadata": {},
   "source": [
    "*Image: An infrared thermometer. [Source](https://www.solopick.com/products/recci-forehead-infrared-thermometer)*"
   ]
  },
  {
   "cell_type": "markdown",
   "metadata": {},
   "source": [
    "We can use an adaptive IIR filter to filter the body temperature measurement depending on changes in the ambient temperature measurement, thereby selectively removing artifacts in the body temperature measurement when there are large changes in ambient temperature reading.\n",
    "\n",
    "An example of such an application can be observed in the following figure. The initial signals have been initially filtered with a low pass Kalman filter to remove high frequency noise. A notable drop can be observed in the ambient temperature data filtered with just this Kalman filter, and a correspondent artifact can be noted in the object temperature. The applied IIR filter makes use of this correlation to virtually eliminate the artifact, while maintaining intact the rest of the information in the signal."
   ]
  },
  {
   "attachments": {},
   "cell_type": "markdown",
   "metadata": {},
   "source": [
    "<img src=\"https://i.ibb.co/NKRsFqh/ir1kalmaniir.png\" alt=\"CSS\" border=\"0\" width=\"600\">"
   ]
  },
  {
   "cell_type": "markdown",
   "metadata": {},
   "source": [
    "*Image: Ambient and Object temperature measured with an IR temperature sensor, filtered initially with a low pass Kalman filter and subsequently with an adaptive IIR filter.*"
   ]
  },
  {
   "cell_type": "markdown",
   "metadata": {},
   "source": [
    "Such a filter could also feasibly be used to filter EEG data, where it could be used to remove eye movement artifacts in certain electrodes as they are very highly correlated with the same artifacts captured through other electrodes, particularly those placed in a more frontal position. (Although in practice, generallty more sophisticated filtering methods are used)."
   ]
  },
  {
   "cell_type": "markdown",
   "metadata": {},
   "source": [
    "#### <div style=\"color:#00a0e4\">   3.2. Related notebooks  </div>"
   ]
  },
  {
   "cell_type": "markdown",
   "metadata": {},
   "source": [
    "You can see a more detailed explanation of this application in the following notebook:  <br>\n",
    "[Kalman and IIR Filtering for Body Temperature Measurements](../Continuous_Thermometer/Continuous-Temperature-Measurement.ipynb) <br>"
   ]
  },
  {
   "cell_type": "markdown",
   "metadata": {},
   "source": [
    "#### <div style=\"color:#00a0e4\">   3.3. Notes  </div>"
   ]
  },
  {
   "cell_type": "markdown",
   "metadata": {},
   "source": [
    "<div style=\"background:#00bfc2;font-family:'arial', monospace; text-align: center; padding: 10px 0; border-radius:10px; width:70%; margin:auto \" >\n",
    "  <span style=\"font-size:20px;position:relative;color:white; \">  Note </span> <br>\n",
    "  <div style=\"background:#9eddde;font-size:12px\"> \n",
    "   This filter is most useful for selectively removing artifacts.\n",
    "</div>"
   ]
  },
  {
   "cell_type": "markdown",
   "metadata": {},
   "source": [
    "<div style=\"background:#00bfc2;font-family:'arial', monospace; text-align: center; padding: 10px 0; border-radius:10px; width:70%; margin:auto \" >\n",
    "  <span style=\"font-size:20px;position:relative;color:white; \">  Note </span> <br>\n",
    "  <div style=\"background:#9eddde;font-size:12px\"> \n",
    "   A variable alpha determines the strength of the signal based on another correlated signal.\n",
    "</div>"
   ]
  },
  {
   "cell_type": "markdown",
   "metadata": {},
   "source": [
    "<div style=\"height:115px; background:white;border-radius:10px;text-align:center\"> \n",
    "\n",
    "<img src=\"https://www.lx.it.pt/~asmc/predict/images/IT.png\" alt=\"it\" style=\"position: relative; margin-left: 10px; bottom:-55px;max-width:150px;height:auto;\"/> \n",
    "<img src=\"https://cqe.tecnico.ulisboa.pt/files/files/logos/IST_A_RGB_POS.png\"\n",
    "         alt=\"alternate text\" \n",
    "         style=\"position: relative; margin-left: 10px;  bottom:-50px; width:150px;height:auto;\"/>\n",
    "</div> "
   ]
  },
  {
   "cell_type": "markdown",
   "metadata": {},
   "source": [
    "<div style=\"width: 100%; \">\n",
    "<div style=\"background:#00a0e4;color:white;font-family:'arial', monospace; text-align: center; padding: 50px 0; border-radius:10px; height:10px; width:100%; float:left \" >\n",
    "<span style=\"font-size:12px;position:relative; top:-25px\">  Please provide us your feedback <span style=\"font-size:14px;position:relative;COLOR:WHITE\"> [here](https://forms.gle/C8TdLQUAS9r8BNJM8)</span>.</span> \n",
    "<br>\n",
    "<span style=\"font-size:17px;position:relative; top:-20px\">  Suggestions are welcome! </span> \n",
    "</div>"
   ]
  },
  {
   "cell_type": "markdown",
   "metadata": {},
   "source": [
    "```Contributors: Rita Silva; Vicente Garção```"
   ]
  }
 ],
 "metadata": {
  "kernelspec": {
   "display_name": "Python 3",
   "language": "python",
   "name": "python3"
  },
  "language_info": {
   "codemirror_mode": {
    "name": "ipython",
    "version": 3
   },
   "file_extension": ".py",
   "mimetype": "text/x-python",
   "name": "python",
   "nbconvert_exporter": "python",
   "pygments_lexer": "ipython3",
   "version": "3.8.3"
  }
 },
 "nbformat": 4,
 "nbformat_minor": 4
}
