{
 "cells": [
  {
   "cell_type": "markdown",
   "metadata": {},
   "source": [
    " # <div  style=\"color:#303030;font-family:'arial blACK', sans-serif,monospace; text-align: center; padding: 50px 0; vertical-align:middle;\" > <img src=\"https://www.nicepng.com/png/full/204-2043038_white-lightbulb-icon-light-bulb-icon-white.png\" style=\" background:#00a0e4;border-radius:10px;width:150px;text-align:left; margin-left:10%\"  /> <span style=\"position:relative; bottom:70px; margin-left:5%\">   Kalman Filtering</span> </div>"
   ]
  },
  {
   "cell_type": "markdown",
   "metadata": {},
   "source": [
    "## <span style=\"color:#00a0e4;\"> Keywords: </span>"
   ]
  },
  {
   "cell_type": "markdown",
   "metadata": {},
   "source": [
    "```Kalman filter```, ```Python```, ```Signal Processing```, ```Low-pass Filters```"
   ]
  },
  {
   "cell_type": "markdown",
   "metadata": {},
   "source": [
    "# I. Introduction\n",
    "<br>\n",
    "<div class=\"title\"style=\"width:100%; background:#00a0e4;font-family:'arial black',monospace; text-align: center; padding: 7px 0; border-radius: 5px 50px;margin-top:-15px\" >  </div>"
   ]
  },
  {
   "cell_type": "markdown",
   "metadata": {},
   "source": [
    "## <div style=\"color:#00a0e4\"> 1. Background</div>\n",
    "In signal processing, filters are one of the most valuable tools available, as they allow for the extraction of valuable information from signals, as well as the removal of unwanted noise. Kalman filtering is a type of low pass filtering quite useful for various applications, particularly for signal smoothing and the removal of noise.\n"
   ]
  },
  {
   "cell_type": "markdown",
   "metadata": {},
   "source": [
    "## <div style=\"color:#00a0e4\"> 2. Objectives</div>\n",
    "* Understand the theoretical principles behind Kalman filtration.\n",
    "* Understand how to implement a Kalman filter in Python.\n",
    "* Understand the possible applications for this type of processing."
   ]
  },
  {
   "cell_type": "markdown",
   "metadata": {},
   "source": [
    "## <div style=\"color:#00a0e4\"> 3. Theory </div>\n"
   ]
  },
  {
   "cell_type": "markdown",
   "metadata": {},
   "source": [
    "More specifically, Kalman filtration is an algorithm that aims to provide estimates for unknown variables, given measurements over a time frame, in order to provide accurate approximations of current states. It provides a recursive solution to the least-mean-squares method without explicitly solving the problem of the minimization of errors. It is comprised by two parts, prediction and update. "
   ]
  },
  {
   "attachments": {},
   "cell_type": "markdown",
   "metadata": {},
   "source": [
    "<img src=\"https://i.ibb.co/PcDVSD2/1-KYwye-Qpcrx-TDn8c-Ey5-O0-g.png\" alt=\"CSS\" border=\"0\" width=\"600\">"
   ]
  },
  {
   "cell_type": "markdown",
   "metadata": {},
   "source": [
    "*Image: Illustration of Kalman filtering stages. [Source](https://www.codeproject.com/Articles/865935/Object-Tracking-Kalman-Filter-with-Ease)*"
   ]
  },
  {
   "cell_type": "markdown",
   "metadata": {},
   "source": [
    "The prediction consists of estimating the current state _xhat_ using the previous state xhat-, and determining the error covariance of the current state _P(k)_ by adding a tuning parameter _Q_ to the previous state's error covariance _P-(k)_.\n",
    "        \n",
    "\n",
    "xhat-(k)=xhat(k-1)\n",
    " \n",
    "P-(k)=P(k-1) \n",
    "\n",
    "        \n",
    "The update consists of the calculation of the Kalman gain K(k) using P-(k) and a tuning parameter R and a posteriori estimates of the current state using the current measurement y(k) and the Kalman gain, and error covariance using K(k) and P-(k):\n",
    "        \n",
    "K(k)=P-(k)/P-(k)+R\n",
    " \n",
    "xhat(k)=xhat-(k)+K(k)*y(k)-xhat-(k)\n",
    " \n",
    "P(k)=(1-K(k))*P-(k)      \n",
    "        \n",
    "The output of the filter, corresponds to the value of xhat(k)."
   ]
  },
  {
   "cell_type": "markdown",
   "metadata": {},
   "source": [
    "# II. Experimental\n",
    "\n",
    "<div style=\"width:100%; background:#00a0e4;color:#282828;font-family:'arial black'; text-align: center; padding: 7px 0; border-radius: 5px 50px; margin-top:-15px\" > </div>"
   ]
  },
  {
   "cell_type": "markdown",
   "metadata": {},
   "source": [
    "The previous algorithm can be implemented in Python with the following code:"
   ]
  },
  {
   "cell_type": "code",
   "execution_count": 4,
   "metadata": {},
   "outputs": [],
   "source": [
    "def kalman(z):\n",
    "    n_iter = len(z)\n",
    "    sz = (n_iter,) # size of array\n",
    "    \n",
    "    # variable parameters, adjust to calibrate the cutoff frequency, i.e. the level of smoothing\n",
    "    Q = 1e-5 # process variance\n",
    "    R = 0.5 # estimate of measurement variance, change to see effect\n",
    "    \n",
    "    xhat=[] \n",
    "    P=[] \n",
    "    xhatminus=[] \n",
    "    Pminus=[] \n",
    "    K=[]\n",
    "    y=[] \n",
    "    cont=0\n",
    "\n",
    "    while cont<=n_iter-1: \n",
    "        xhat.append(0) \n",
    "        P.append(0) \n",
    "        xhatminus.append(0) \n",
    "        Pminus.append(0) \n",
    "        K.append(0) \n",
    "        y.append(cont) \n",
    "        cont=cont+1\n",
    "        \n",
    "        # intial guesses \n",
    "        xhat[0] = 2320\n",
    "        P[0] = 2320\n",
    "        \n",
    "        for k in range(1,n_iter):\n",
    "            # time update\n",
    "            xhatminus[k] = xhat[k-1]\n",
    "            Pminus[k] = P[k-1]+Q\n",
    "            # measurement update\n",
    "            K[k] = Pminus[k]/( Pminus[k]+R )\n",
    "            xhat[k] = xhatminus[k]+K[k]*(z[k]-xhatminus[k]) \n",
    "            P[k] = (1-K[k])*Pminus[k]\n",
    "    return (xhat)\n",
    "\n",
    "# Source: Bruno Miguel Agostinho dos Santos Pereira, \"Sistema de aquisição de sinais biomédicos baseado \n",
    "# num telefone celular - Aplicação na estimação da temperatura Central para determinação do ciclo circadiano do sono,\", \n",
    "# Master's Thesis in Biomedical Engineering, Instituto Superior Técnico, Lisboa "
   ]
  },
  {
   "cell_type": "markdown",
   "metadata": {},
   "source": [
    "You can adjust the tuning parameters Q and R according to how strong the filter should be, and the initial guesses xhat(0) and P(0) according to what the initial values of xhat and P should be."
   ]
  },
  {
   "cell_type": "markdown",
   "metadata": {},
   "source": [
    "# III. Explore\n",
    "<div style=\"width:100%; background:#00a0e4;color:#282828;font-family:'arial black'; text-align: center; padding: 7px 0; border-radius: 5px 50px; margin-top:-15px\" > </div>"
   ]
  },
  {
   "cell_type": "markdown",
   "metadata": {},
   "source": [
    "#### <div style=\"color:#00a0e4\">   3.1. Applications and Examples  </div>"
   ]
  },
  {
   "cell_type": "markdown",
   "metadata": {},
   "source": [
    "As was previously mentioned, this filter is particularly useful for applications that require smoothing of signals and removal of noise. \n",
    "\n",
    "For instance, it can be used to assist the navigation of vehicles such as self-driving cars, aircraft and spacecraft. It is also used often in economics."
   ]
  },
  {
   "attachments": {},
   "cell_type": "markdown",
   "metadata": {},
   "source": [
    "<img src=\"https://i.ibb.co/s9HTM63/google-artificial-intelligence-first-non-human-driver-dezeen-1568-1.jpg\" alt=\"CSS\" border=\"0\" width=\"600\">"
   ]
  },
  {
   "cell_type": "markdown",
   "metadata": {},
   "source": [
    "*Image: self-driving cars use Kalman filtration to aid navigation. Source: Google*"
   ]
  },
  {
   "cell_type": "markdown",
   "metadata": {},
   "source": [
    "In the context of Biomedical Engineering, Kalman filtering is used in brain computer interfaces and nuclear medicine, and can be used to smooth physiological signals such as photoplethysmography (PPG) signals or the body temperature of an individual measured every second by an infrared thermometer. \n",
    "\n",
    "These types of signals often have high frequency noise caused by the device used to acquire the signal, or by small random fluctuations in the signal itself, irrelevant for the overall physiological analysis.\n",
    "\n",
    "An example of such an application can be observed in the following figure."
   ]
  },
  {
   "attachments": {},
   "cell_type": "markdown",
   "metadata": {},
   "source": [
    "<img src=\"https://i.ibb.co/p1VTFgy/contact1kalman.png\" alt=\"CSS\" border=\"0\" width=\"600\">"
   ]
  },
  {
   "cell_type": "markdown",
   "metadata": {},
   "source": [
    "*Image: Body temperature measurement using an integrated circuit temperature sensor, filtered with a Kalman filter.*"
   ]
  },
  {
   "cell_type": "markdown",
   "metadata": {},
   "source": [
    "As it can be observed, this filter, much like most filters, introduces some noticeable delay. In this particular application, a 5 minute delay is not relevant, as body temperature tends to vary in larger time intervals, but it is important to take this in mind."
   ]
  },
  {
   "cell_type": "markdown",
   "metadata": {},
   "source": [
    "#### <div style=\"color:#00a0e4\">   3.2. Related notebooks  </div>"
   ]
  },
  {
   "cell_type": "markdown",
   "metadata": {},
   "source": [
    "You can see a more detailed explanation of this application in the following notebook:  <br>\n",
    "[Kalman and IIR Filtering for Body Temperature Measurements](../Continuous_Thermometer/Continuous-Temperature-Measurement.ipynb) <br>"
   ]
  },
  {
   "cell_type": "markdown",
   "metadata": {},
   "source": [
    "#### <div style=\"color:#00a0e4\">   3.3. Notes and Warnings  </div>"
   ]
  },
  {
   "cell_type": "markdown",
   "metadata": {},
   "source": [
    "<div style=\"background:#fada5e;font-family:'arial', monospace; text-align: center; padding: 10px 0; border-radius:10px; width:70%; margin:auto \" >\n",
    "  <span style=\"font-size:20px;position:relative;color:white; \">  Warning! </span> <br>\n",
    "  <div style=\"background:#fff3c4;font-size:12px\"> \n",
    "    Filters can introduce delay. Make sure to compensate for this with a time shift if the delay is relevant to the signal.\n",
    "</div>"
   ]
  },
  {
   "cell_type": "markdown",
   "metadata": {},
   "source": [
    "<div style=\"background:#00bfc2;font-family:'arial', monospace; text-align: center; padding: 10px 0; border-radius:10px; width:70%; margin:auto \" >\n",
    "  <span style=\"font-size:20px;position:relative;color:white; \">  Note </span> <br>\n",
    "  <div style=\"background:#9eddde;font-size:12px\"> \n",
    "    You can adjust the tuning parameters Q and R and the initial values of xhat and P to adjust the filter's strength.\n",
    "</div>"
   ]
  },
  {
   "cell_type": "markdown",
   "metadata": {},
   "source": [
    "<div style=\"height:115px; background:white;border-radius:10px;text-align:center\"> \n",
    "\n",
    "<img src=\"https://www.lx.it.pt/~asmc/predict/images/IT.png\" alt=\"it\" style=\"position: relative; margin-left: 10px; bottom:-55px;max-width:150px;height:auto;\"/> \n",
    "<img src=\"https://cqe.tecnico.ulisboa.pt/files/files/logos/IST_A_RGB_POS.png\"\n",
    "         alt=\"alternate text\" \n",
    "         style=\"position: relative; margin-left: 10px;  bottom:-50px; width:150px;height:auto;\"/>\n",
    "</div> "
   ]
  },
  {
   "cell_type": "markdown",
   "metadata": {},
   "source": [
    "<div style=\"width: 100%; \">\n",
    "<div style=\"background:#00a0e4;color:white;font-family:'arial', monospace; text-align: center; padding: 50px 0; border-radius:10px; height:10px; width:100%; float:left \" >\n",
    "<span style=\"font-size:12px;position:relative; top:-25px\">  Please provide us your feedback <span style=\"font-size:14px;position:relative;COLOR:WHITE\"> [here](https://forms.gle/C8TdLQUAS9r8BNJM8)</span>.</span> \n",
    "<br>\n",
    "<span style=\"font-size:17px;position:relative; top:-20px\">  Suggestions are welcome! </span> \n",
    "</div>"
   ]
  },
  {
   "cell_type": "markdown",
   "metadata": {},
   "source": [
    "```Contributors: Rita Silva; Vicente Garção```"
   ]
  }
 ],
 "metadata": {
  "kernelspec": {
   "display_name": "Python 3",
   "language": "python",
   "name": "python3"
  },
  "language_info": {
   "codemirror_mode": {
    "name": "ipython",
    "version": 3
   },
   "file_extension": ".py",
   "mimetype": "text/x-python",
   "name": "python",
   "nbconvert_exporter": "python",
   "pygments_lexer": "ipython3",
   "version": "3.8.3"
  }
 },
 "nbformat": 4,
 "nbformat_minor": 4
}
