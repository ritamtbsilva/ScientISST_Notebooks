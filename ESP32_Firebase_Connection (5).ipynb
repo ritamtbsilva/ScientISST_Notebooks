{
 "cells": [
  {
   "cell_type": "markdown",
   "metadata": {},
   "source": [
    " # <div  style=\"color:#303030;font-family:'arial blACK', sans-serif,monospace; text-align: center; padding: 50px 0; vertical-align:middle;\" > <img src=\"https://www.nicepng.com/png/full/204-2043038_white-lightbulb-icon-light-bulb-icon-white.png\" style=\" background:#00a0e4;border-radius:10px;width:150px;text-align:left\"  /> <span style=\"position:relative; bottom:75px; left:20px\">  ESP32 Firebase Connection </span> </div>"
   ]
  },
  {
   "cell_type": "markdown",
   "metadata": {},
   "source": [
    "# I. Introduction\n",
    "<div style=\"width:100%; background:#00a0e4;font-family:'arial black',monospace; text-align: center; padding: 7px 0; border-radius: 5px 50px;margin-top:-15px\" >  </div>\n"
   ]
  },
  {
   "cell_type": "markdown",
   "metadata": {},
   "source": [
    "We live in an era in which microcontrollers and Internt of Things platforms are increasingly dominating the world. This notebook presents the integration of NodeMCU platform with an online and open source database, Google Firebase, suitable for various applications. The possibilities are endless!\n",
    "\n",
    "\n"
   ]
  },
  {
   "cell_type": "markdown",
   "metadata": {},
   "source": [
    "## <div style=\"color:#00a0e4\"> 1. Background </div>\n"
   ]
  },
  {
   "cell_type": "markdown",
   "metadata": {},
   "source": [
    "A __microcontroller__ (MCU) is a tiny computer which contains one or more CPUs (processor cores), along with memory and programmable input/output peripherals. An example of a microcontroller is the _Espressif_ _Systems_ ESP32 microcontroller series: low-cost, low-power system on a chip microcontroller, with integrated Wi-Fi and dual-mode Bluetooth.\n",
    "\n",
    "Microcontrollers can be used in a variety of applications, such as in automatically controlled devices, like the worldwide known Arduino series. However, there are a lot of other options: for example __NodeMCU__, which is a low-cost open source IoT platform, which integrates the __ESP32 32-bit MCU__.\n",
    "\n",
    "But what does this means in practice? It means that, for a few bucks, you can create your own smartphone-controlled blinking LED, or even a self-watering garden! Pretty cool, right? \n",
    "\n",
    "\n",
    "                                          __*INSERIR FOTO DO ESP32*__                                                             \n"
   ]
  },
  {
   "cell_type": "markdown",
   "metadata": {},
   "source": [
    "<div style=\"background:#62d321;font-family:'arial', monospace; text-align: center; padding: 10px 0; border-radius:10px; width:70%; margin:auto \" >\n",
    "  <span style=\"font-size:20px;position:relative;color:white; \"> Explore </span> <br>\n",
    "  <div style=\"background:#c5e8b0;font-size:12px\"> \n",
    "For a more detailed explanation, such as the pinout scheme and NodeMCU functionalities, please read the <b>NodeMCU ESP32 datasheet</b>.\n",
    "      \n",
    "      \n",
    "      \n",
    "</div>\n",
    "    \n",
    "    "
   ]
  },
  {
   "cell_type": "markdown",
   "metadata": {},
   "source": [
    "\n",
    "But to do all these cool things, we need to program all our functions and instructions into the NodeMCU platform. This is done using Arduino Integrated Development Environment (IDE). Arduino IDE is a cross-platform application (for Windows, macOS, Linux) that is written in functions from C and C++ (pretty similar to Java). It is used to write and upload programs to Arduino compatible boards, such as the NodeMCU ESP32."
   ]
  },
  {
   "cell_type": "markdown",
   "metadata": {},
   "source": [
    "\n",
    "However, to really explore the wireless communication capabilities of this IoT platform, we will have to use a support to save the data also wirelessly, in order to later develop a visual support for that data. This is where Google Firebase comes in.\n",
    "\n",
    "<b> _Firebase_ </b> is a platform developed by Google for creating mobile and web applications. It was originally an independent company founded in 2011, but in 2014, Google acquired the platform and it is now their flagship offering for app development.\n",
    "\n",
    "Google Firebase allows the users to create a Real Time Database, which allows the user to save and do whatever he wants with the data in a real-time rate! For a clinical context, for example, it is very important to have a way of transmit, visualize and store the information in a Cloud-like real-time environment: only in this way we can have access to the number of COVID-19 patients and their symptoms, for example.\n",
    "\n",
    "These websites or applications can be created using varied programming languages and environments! Here is shown a simple application developed in Ionic (HTML). This App template was made in approximately 4 hours, and displays the data in real time, without any delay, of the data collected by a temperature sensor and stored in Firebase. \n",
    "                              \n",
    "                              \n",
    "                              \n",
    "<img src=\"firebaseapp.png\" width=\"250\">\n",
    "\n"
   ]
  },
  {
   "cell_type": "markdown",
   "metadata": {},
   "source": [
    "This notebook consists on a simple integration of Google Firebase with NodeMCU ESP32, through a WiFi connection,\n"
   ]
  },
  {
   "cell_type": "markdown",
   "metadata": {},
   "source": [
    "## <div style=\"color:#00a0e4\"> 2. Objectives</div>\n",
    "* Familiarization with the main functions of Google Firebase\n",
    "* Integration of ESP32 in a  Google Firebase Realtime Database\n"
   ]
  },
  {
   "cell_type": "markdown",
   "metadata": {},
   "source": [
    "## <div style=\"color:#00a0e4\"> 3. Materials (optional) </div>\n",
    "* NodeMCU ESP32 micro-controller\n",
    "* Connection to a WiFi network\n",
    "* Access to a computer with WiFi connection"
   ]
  },
  {
   "cell_type": "markdown",
   "metadata": {},
   "source": [
    "<div style=\"background:#00bfc2;font-family:'arial', monospace; text-align: center; padding: 10px 0; border-radius:10px; width:70%; margin:auto \" >\n",
    "  <span style=\"font-size:20px;position:relative;color:white; \">  Note </span> <br>\n",
    "  <div style=\"background:#9eddde;font-size:12px\"> \n",
    "    Despite being used the NodeMCU ESP32 platform in the present notebook, the following instructions are known to also work with Sparkfun ESP32 Thing, WEMOS LOLIN32 and TTGO T8 V1.8."
   ]
  },
  {
   "cell_type": "markdown",
   "metadata": {},
   "source": [
    "# II. Experimental\n",
    "\n",
    "<div style=\"width:100%; background:#00a0e4;color:#282828;font-family:'arial black'; text-align: center; padding: 7px 0; border-radius: 5px 50px; margin-top:-15px\" > </div>"
   ]
  },
  {
   "cell_type": "markdown",
   "metadata": {},
   "source": [
    "### <div style=\"color:#00a0e4\">  1. Creating a Firebase Project </div>"
   ]
  },
  {
   "cell_type": "markdown",
   "metadata": {},
   "source": [
    "Firstly, in order to connect the NodeMCU ESP32 with the Firebase Database, we first need to create a Realtime Database Project. This project will have an unique ID, and can be made private if one wishes so. This section is an adaptation of a public [tutorial](https://medium.com/@vibrologic/serverless-iots-with-firebase-realtime-database-and-esp32-2d86eda06ff1)."
   ]
  },
  {
   "cell_type": "markdown",
   "metadata": {},
   "source": [
    "Firstly, you must login to [Google Firebase](https://firebase.google.com/ ), using your Google account. After signing in, click in the button _Get Started_, in order to _Add a new project_."
   ]
  },
  {
   "cell_type": "markdown",
   "metadata": {},
   "source": [
    "After clicking _Add Project_, a new window will appear: this is where you set up the project ID and name! Choose a suggestive name, and edit the Project ID if you wish. The Project ID will be very important throughout this tutorial, so choose a simple and suitable name! For example, in this case, the Project Name will be \"ESP32 NodeMCU Project\" and the Project ID will be \"id_esp32-nodemcu\". After this, your project will be created.\n",
    "\n",
    "<img src=\"FirebaseID.png\" width=\"500\">"
   ]
  },
  {
   "cell_type": "markdown",
   "metadata": {},
   "source": [
    "When your project has been successfully created, you will then want to access the lateral tab _\"Realtime Database\"_. This is where all the magic happens! For small projects and testing, this database is totally free.\n",
    "\n",
    "After clicking _create database_ a pop window will appear. In this, select choose _Start in locked mode_ or _Start in test mode_ option. For this, we will choose __test mode__, and our first database will be created.\n",
    "\n",
    "\n",
    "<img src=\"firebasedb.png\" width=\"500\">\n",
    "\n",
    "\n",
    "However, right now we don't have anything connected to our firebase: \n",
    "\n",
    "           id-esp32-nodemcu: null\n",
    "\n",
    "\n",
    "We need to create a _\"secret password\"_ in order to connect whatever device we want to this database, namely the NodeMCU ESP32! For this, we must go to the lateral tab and select _Project Overview_ and then _Project Settings_. When in project settings, select _Service Accounts_. Finally, click \"Show\" to see your secret password!\n",
    "\n",
    "<img src=\"firebasekey.png\" width=\"500\">\n"
   ]
  },
  {
   "cell_type": "markdown",
   "metadata": {},
   "source": [
    "After this, our database is ready to be used! Now all we need to do is to include the project information (ID and Secret Password) in the NodeMCU ESP32. And that's exactly what we will do in the next section.\n",
    "\n",
    "<div style=\"background:#fada5e;font-family:'arial', monospace; text-align: center; padding: 10px 0; border-radius:10px; width:70%; margin:auto \" >\n",
    "  <span style=\"font-size:20px;position:relative;color:white; \">  Warning! </span> <br>\n",
    "  <div style=\"background:#fff3c4;font-size:12px\"> \n",
    "    All the IDs and passwords used on this notebook were created on purpose for the scope of this explanation, and are no longer available. Never share your project ID and password !!\n",
    "</div>"
   ]
  },
  {
   "cell_type": "markdown",
   "metadata": {},
   "source": [
    "### <div style=\"color:#00a0e4\">  2. Importing Libraries to ESP32 </div>"
   ]
  },
  {
   "cell_type": "markdown",
   "metadata": {},
   "source": [
    "For the integration of Google Firebase in Arduino IDE, and in particular, in the ESP32, the following tutorial must be followed. In the following sections it will be given a brief overview of this tutorial, which must be the essential to complete this task: https://medium.com/@vibrologic/serverless-iots-with-firebase-realtime-database-and-esp32-def049181b57\n"
   ]
  },
  {
   "cell_type": "markdown",
   "metadata": {},
   "source": []
  },
  {
   "cell_type": "markdown",
   "metadata": {},
   "source": [
    "### <div style=\"color:#00a0e4\">   3. LED ON/OFF Example </div>"
   ]
  },
  {
   "cell_type": "markdown",
   "metadata": {},
   "source": [
    "In order to better visualize the possibilities of the integration of ESP32 with Google Firebase, a simple example is included in this notebook. This consists on making the built-in LED of ESP32 to blink with a rate of 1Hz, in which the status of the LED will change in real time in the Firebase Database."
   ]
  },
  {
   "cell_type": "markdown",
   "metadata": {},
   "source": []
  },
  {
   "cell_type": "markdown",
   "metadata": {},
   "source": [
    "<div style=\"background:#fada5e;font-family:'arial', monospace; text-align: center; padding: 10px 0; border-radius:10px; width:70%; margin:auto \" >\n",
    "  <span style=\"font-size:20px;position:relative;color:white; \">  Warning! </span> <br>\n",
    "  <div style=\"background:#fff3c4;font-size:12px\"> \n",
    "    Dizer que é normal que o ESP32 não se ligue à rede de casa... Tem que se fazer um Hotspot primeiro com o telemóvel...     \n",
    "</div>"
   ]
  },
  {
   "cell_type": "markdown",
   "metadata": {},
   "source": [
    "### <div style=\"color:#00a0e4\">   4. Examples of utilization </div>"
   ]
  },
  {
   "cell_type": "markdown",
   "metadata": {},
   "source": [
    "At first glance, the integration of ESP32 with Google Firebase may not be of much interest, since the data is only being accessible through the Google Firebase website / application.\n",
    "However, Google Firebase is very useful, because ..... (say everything that makes google firebase good, and that can be integrated into anything !!!).\n",
    "\n",
    "This notebook is therefore the \"basis\" for the integration of data in real time in an online database, which can be accessed through any application or website!"
   ]
  },
  {
   "cell_type": "markdown",
   "metadata": {},
   "source": [
    "#### <div style=\"color:#00a0e4\">   3.4. Notes and Warnings - Example  </div>"
   ]
  },
  {
   "cell_type": "markdown",
   "metadata": {},
   "source": [
    "<div style=\"background:#fada5e;font-family:'arial', monospace; text-align: center; padding: 10px 0; border-radius:10px; width:70%; margin:auto \" >\n",
    "  <span style=\"font-size:20px;position:relative;color:white; \">  Warning! </span> <br>\n",
    "  <div style=\"background:#fff3c4;font-size:12px\"> \n",
    "    The warning must be explained here...      \n",
    "</div>"
   ]
  },
  {
   "cell_type": "markdown",
   "metadata": {},
   "source": [
    "<div style=\"background:#00bfc2;font-family:'arial', monospace; text-align: center; padding: 10px 0; border-radius:10px; width:70%; margin:auto \" >\n",
    "  <span style=\"font-size:20px;position:relative;color:white; \">  Note </span> <br>\n",
    "  <div style=\"background:#9eddde;font-size:12px\"> \n",
    "    The note must be explained here...     \n",
    "</div>"
   ]
  },
  {
   "cell_type": "markdown",
   "metadata": {},
   "source": [
    "<div style=\"background:#62d321;font-family:'arial', monospace; text-align: center; padding: 10px 0; border-radius:10px; width:70%; margin:auto \" >\n",
    "  <span style=\"font-size:20px;position:relative;color:white; \"> Explore </span> <br>\n",
    "  <div style=\"background:#c5e8b0;font-size:12px\"> \n",
    "    The explore more advice must be explained here...      \n",
    "</div>"
   ]
  },
  {
   "cell_type": "markdown",
   "metadata": {},
   "source": [
    "<div style=\"background:#fe9b29;font-family:'arial', monospace; text-align: center; padding: 10px 0; border-radius:10px; width:70%; margin:auto \" >\n",
    "  <span style=\"font-size:20px;position:relative;color:white; \">  Caution! </span> <br>\n",
    "  <div style=\"background:#ffdab0;font-size:12px\"> \n",
    "    The caution must be explained here...     \n",
    "</div>"
   ]
  },
  {
   "cell_type": "markdown",
   "metadata": {},
   "source": [
    "# III. Explore\n",
    "<div class='h1'  style=\"width:100%; background:#00a0e4;color:#282828;font-family:'arial black'; text-align: center; padding: 7px 0; border-radius: 5px 50px;margin-top:-15px\" > </div>"
   ]
  },
  {
   "cell_type": "markdown",
   "metadata": {},
   "source": [
    "Remember ...  \n"
   ]
  },
  {
   "cell_type": "markdown",
   "metadata": {},
   "source": [
    "### <div style=\"color:#00a0e4\">  1. Final Notes (optional) </div>"
   ]
  },
  {
   "cell_type": "markdown",
   "metadata": {},
   "source": [
    "### <div style=\"color:#00a0e4\">  2. Quiz (optional)  </div>"
   ]
  },
  {
   "cell_type": "markdown",
   "metadata": {},
   "source": [
    "### <div style=\"color:#00a0e4\">  3. Further Reading  </div>"
   ]
  },
  {
   "cell_type": "markdown",
   "metadata": {},
   "source": [
    "<div style=\"height:115px; background:white;border-radius:10px;text-align:center\"> \n",
    "\n",
    "<img src=\"https://www.lx.it.pt/~asmc/predict/images/IT.png\" alt=\"it\" style=\"position: relative; margin-left: 10px; bottom:-55px;max-width:150px;height:auto;\"/> \n",
    "<img src=\"https://cqe.tecnico.ulisboa.pt/files/files/logos/IST_A_RGB_POS.png\"\n",
    "         alt=\"alternate text\" \n",
    "         style=\"position: relative; margin-left: 10px;  bottom:-50px; width:150px;height:auto;\"/>\n",
    "</div> "
   ]
  },
  {
   "cell_type": "markdown",
   "metadata": {},
   "source": [
    "<div style=\"width: 100%; \">\n",
    "    <div style=\"background:#00a0e4;color:white;font-family:'arial', monospace; text-align: center; padding: 50px 0; border-radius:10px; height:10px; width:100%; float:left \" >\n",
    "  <span style=\"font-size:20px;position:relative; top:-25px\">  Suggestions are welcome! </span> <br>\n",
    " <span style=\"font-size:12px;position:relative; top:-25px\">  Please provide us your feedback at jehdwne@it.lx.pt</span> \n",
    "</div>"
   ]
  }
 ],
 "metadata": {
  "kernelspec": {
   "display_name": "Python 3",
   "language": "python",
   "name": "python3"
  },
  "language_info": {
   "codemirror_mode": {
    "name": "ipython",
    "version": 3
   },
   "file_extension": ".py",
   "mimetype": "text/x-python",
   "name": "python",
   "nbconvert_exporter": "python",
   "pygments_lexer": "ipython3",
   "version": "3.7.8"
  }
 },
 "nbformat": 4,
 "nbformat_minor": 4
}
